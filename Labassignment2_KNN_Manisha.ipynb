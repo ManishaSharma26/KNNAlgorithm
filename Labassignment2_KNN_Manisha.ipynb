{
  "nbformat": 4,
  "nbformat_minor": 0,
  "metadata": {
    "colab": {
      "name": "Labassignment2_KNN_Manisha.ipynb",
      "provenance": [],
      "collapsed_sections": []
    },
    "kernelspec": {
      "name": "python3",
      "display_name": "Python 3"
    },
    "language_info": {
      "name": "python"
    }
  },
  "cells": [
    {
      "cell_type": "code",
      "execution_count": 45,
      "metadata": {
        "id": "-qvew20PYLsg"
      },
      "outputs": [],
      "source": [
        "import numpy as np\n",
        "import pandas as pd\n",
        "import matplotlib.pyplot as plt\n",
        "from sklearn import preprocessing\n",
        "from sklearn.model_selection import train_test_split\n",
        "from sklearn.neighbors import KNeighborsClassifier\n",
        "from sklearn.metrics import accuracy_score"
      ]
    },
    {
      "cell_type": "code",
      "source": [
        "# load dataset\n",
        "df = pd.read_csv(\"https://archive.ics.uci.edu/ml/machine-learning-databases/car/car.data\")\n",
        "columns= ['buying','maint','doors','persons','lug_boot','safety','classes']\n",
        "\n",
        "# Assign names to Columns\n",
        "df.columns = ['buying','maint','doors','persons','lug_boot','safety','classes']\n",
        "df.head()\n"
      ],
      "metadata": {
        "colab": {
          "base_uri": "https://localhost:8080/",
          "height": 206
        },
        "id": "R5ycw7zmYude",
        "outputId": "70b02ac4-853b-4d54-dc0a-820f4a855b65"
      },
      "execution_count": 47,
      "outputs": [
        {
          "output_type": "execute_result",
          "data": {
            "text/html": [
              "\n",
              "  <div id=\"df-b923b2f1-38e3-4721-b30d-5fa3595ca0c9\">\n",
              "    <div class=\"colab-df-container\">\n",
              "      <div>\n",
              "<style scoped>\n",
              "    .dataframe tbody tr th:only-of-type {\n",
              "        vertical-align: middle;\n",
              "    }\n",
              "\n",
              "    .dataframe tbody tr th {\n",
              "        vertical-align: top;\n",
              "    }\n",
              "\n",
              "    .dataframe thead th {\n",
              "        text-align: right;\n",
              "    }\n",
              "</style>\n",
              "<table border=\"1\" class=\"dataframe\">\n",
              "  <thead>\n",
              "    <tr style=\"text-align: right;\">\n",
              "      <th></th>\n",
              "      <th>buying</th>\n",
              "      <th>maint</th>\n",
              "      <th>doors</th>\n",
              "      <th>persons</th>\n",
              "      <th>lug_boot</th>\n",
              "      <th>safety</th>\n",
              "      <th>classes</th>\n",
              "    </tr>\n",
              "  </thead>\n",
              "  <tbody>\n",
              "    <tr>\n",
              "      <th>0</th>\n",
              "      <td>vhigh</td>\n",
              "      <td>vhigh</td>\n",
              "      <td>2</td>\n",
              "      <td>2</td>\n",
              "      <td>small</td>\n",
              "      <td>med</td>\n",
              "      <td>unacc</td>\n",
              "    </tr>\n",
              "    <tr>\n",
              "      <th>1</th>\n",
              "      <td>vhigh</td>\n",
              "      <td>vhigh</td>\n",
              "      <td>2</td>\n",
              "      <td>2</td>\n",
              "      <td>small</td>\n",
              "      <td>high</td>\n",
              "      <td>unacc</td>\n",
              "    </tr>\n",
              "    <tr>\n",
              "      <th>2</th>\n",
              "      <td>vhigh</td>\n",
              "      <td>vhigh</td>\n",
              "      <td>2</td>\n",
              "      <td>2</td>\n",
              "      <td>med</td>\n",
              "      <td>low</td>\n",
              "      <td>unacc</td>\n",
              "    </tr>\n",
              "    <tr>\n",
              "      <th>3</th>\n",
              "      <td>vhigh</td>\n",
              "      <td>vhigh</td>\n",
              "      <td>2</td>\n",
              "      <td>2</td>\n",
              "      <td>med</td>\n",
              "      <td>med</td>\n",
              "      <td>unacc</td>\n",
              "    </tr>\n",
              "    <tr>\n",
              "      <th>4</th>\n",
              "      <td>vhigh</td>\n",
              "      <td>vhigh</td>\n",
              "      <td>2</td>\n",
              "      <td>2</td>\n",
              "      <td>med</td>\n",
              "      <td>high</td>\n",
              "      <td>unacc</td>\n",
              "    </tr>\n",
              "  </tbody>\n",
              "</table>\n",
              "</div>\n",
              "      <button class=\"colab-df-convert\" onclick=\"convertToInteractive('df-b923b2f1-38e3-4721-b30d-5fa3595ca0c9')\"\n",
              "              title=\"Convert this dataframe to an interactive table.\"\n",
              "              style=\"display:none;\">\n",
              "        \n",
              "  <svg xmlns=\"http://www.w3.org/2000/svg\" height=\"24px\"viewBox=\"0 0 24 24\"\n",
              "       width=\"24px\">\n",
              "    <path d=\"M0 0h24v24H0V0z\" fill=\"none\"/>\n",
              "    <path d=\"M18.56 5.44l.94 2.06.94-2.06 2.06-.94-2.06-.94-.94-2.06-.94 2.06-2.06.94zm-11 1L8.5 8.5l.94-2.06 2.06-.94-2.06-.94L8.5 2.5l-.94 2.06-2.06.94zm10 10l.94 2.06.94-2.06 2.06-.94-2.06-.94-.94-2.06-.94 2.06-2.06.94z\"/><path d=\"M17.41 7.96l-1.37-1.37c-.4-.4-.92-.59-1.43-.59-.52 0-1.04.2-1.43.59L10.3 9.45l-7.72 7.72c-.78.78-.78 2.05 0 2.83L4 21.41c.39.39.9.59 1.41.59.51 0 1.02-.2 1.41-.59l7.78-7.78 2.81-2.81c.8-.78.8-2.07 0-2.86zM5.41 20L4 18.59l7.72-7.72 1.47 1.35L5.41 20z\"/>\n",
              "  </svg>\n",
              "      </button>\n",
              "      \n",
              "  <style>\n",
              "    .colab-df-container {\n",
              "      display:flex;\n",
              "      flex-wrap:wrap;\n",
              "      gap: 12px;\n",
              "    }\n",
              "\n",
              "    .colab-df-convert {\n",
              "      background-color: #E8F0FE;\n",
              "      border: none;\n",
              "      border-radius: 50%;\n",
              "      cursor: pointer;\n",
              "      display: none;\n",
              "      fill: #1967D2;\n",
              "      height: 32px;\n",
              "      padding: 0 0 0 0;\n",
              "      width: 32px;\n",
              "    }\n",
              "\n",
              "    .colab-df-convert:hover {\n",
              "      background-color: #E2EBFA;\n",
              "      box-shadow: 0px 1px 2px rgba(60, 64, 67, 0.3), 0px 1px 3px 1px rgba(60, 64, 67, 0.15);\n",
              "      fill: #174EA6;\n",
              "    }\n",
              "\n",
              "    [theme=dark] .colab-df-convert {\n",
              "      background-color: #3B4455;\n",
              "      fill: #D2E3FC;\n",
              "    }\n",
              "\n",
              "    [theme=dark] .colab-df-convert:hover {\n",
              "      background-color: #434B5C;\n",
              "      box-shadow: 0px 1px 3px 1px rgba(0, 0, 0, 0.15);\n",
              "      filter: drop-shadow(0px 1px 2px rgba(0, 0, 0, 0.3));\n",
              "      fill: #FFFFFF;\n",
              "    }\n",
              "  </style>\n",
              "\n",
              "      <script>\n",
              "        const buttonEl =\n",
              "          document.querySelector('#df-b923b2f1-38e3-4721-b30d-5fa3595ca0c9 button.colab-df-convert');\n",
              "        buttonEl.style.display =\n",
              "          google.colab.kernel.accessAllowed ? 'block' : 'none';\n",
              "\n",
              "        async function convertToInteractive(key) {\n",
              "          const element = document.querySelector('#df-b923b2f1-38e3-4721-b30d-5fa3595ca0c9');\n",
              "          const dataTable =\n",
              "            await google.colab.kernel.invokeFunction('convertToInteractive',\n",
              "                                                     [key], {});\n",
              "          if (!dataTable) return;\n",
              "\n",
              "          const docLinkHtml = 'Like what you see? Visit the ' +\n",
              "            '<a target=\"_blank\" href=https://colab.research.google.com/notebooks/data_table.ipynb>data table notebook</a>'\n",
              "            + ' to learn more about interactive tables.';\n",
              "          element.innerHTML = '';\n",
              "          dataTable['output_type'] = 'display_data';\n",
              "          await google.colab.output.renderOutput(dataTable, element);\n",
              "          const docLink = document.createElement('div');\n",
              "          docLink.innerHTML = docLinkHtml;\n",
              "          element.appendChild(docLink);\n",
              "        }\n",
              "      </script>\n",
              "    </div>\n",
              "  </div>\n",
              "  "
            ],
            "text/plain": [
              "  buying  maint doors persons lug_boot safety classes\n",
              "0  vhigh  vhigh     2       2    small    med   unacc\n",
              "1  vhigh  vhigh     2       2    small   high   unacc\n",
              "2  vhigh  vhigh     2       2      med    low   unacc\n",
              "3  vhigh  vhigh     2       2      med    med   unacc\n",
              "4  vhigh  vhigh     2       2      med   high   unacc"
            ]
          },
          "metadata": {},
          "execution_count": 47
        }
      ]
    },
    {
      "cell_type": "code",
      "source": [
        "#to see dimensions of data frame\n",
        "df.shape"
      ],
      "metadata": {
        "colab": {
          "base_uri": "https://localhost:8080/"
        },
        "id": "YBNc71cRbeNj",
        "outputId": "c14687e5-bf1c-46eb-e8b7-0d3b92f113af"
      },
      "execution_count": 48,
      "outputs": [
        {
          "output_type": "execute_result",
          "data": {
            "text/plain": [
              "(1727, 7)"
            ]
          },
          "metadata": {},
          "execution_count": 48
        }
      ]
    },
    {
      "cell_type": "code",
      "source": [
        "#creating labelEncoder and seprating dataset in to X and Y\n",
        "le = preprocessing.LabelEncoder()\n",
        "data=df.values\n",
        "X=data[:,0:6]\n",
        "Y=data[:,6]\n",
        "for i in range(6):\n",
        "  X[:,i]=le.fit_transform(X[:,i])\n",
        "Y=le.fit_transform(Y)\n",
        "print(X)\n",
        "print(Y)"
      ],
      "metadata": {
        "colab": {
          "base_uri": "https://localhost:8080/"
        },
        "id": "uCfZO_JcaLWy",
        "outputId": "1e8bf0a1-9645-4f90-dd3d-2a3acdb2b5b1"
      },
      "execution_count": 49,
      "outputs": [
        {
          "output_type": "stream",
          "name": "stdout",
          "text": [
            "[[3 3 0 0 2 2]\n",
            " [3 3 0 0 2 0]\n",
            " [3 3 0 0 1 1]\n",
            " ...\n",
            " [1 1 3 2 0 1]\n",
            " [1 1 3 2 0 2]\n",
            " [1 1 3 2 0 0]]\n",
            "[2 2 2 ... 2 1 3]\n"
          ]
        }
      ]
    },
    {
      "cell_type": "code",
      "source": [
        "# Split Data to Train and Test\n",
        "X_train, X_test, y_train, y_test = train_test_split(X, Y, test_size=0.2)"
      ],
      "metadata": {
        "id": "0jYMtG1obbTm"
      },
      "execution_count": 50,
      "outputs": []
    },
    {
      "cell_type": "code",
      "source": [
        "# create model when weight=uniform value\n",
        "k=[1,3,5,7,9,11]\n",
        "j=0\n",
        "test_accuracy = np.empty(len(k))\n",
        "#checking accuracy for different values of K\n",
        "for i in k:\n",
        "  knn = KNeighborsClassifier(n_neighbors=i, weights='uniform', metric='minkowski')\n",
        "\n",
        "  knn.fit(X_train, y_train)\n",
        "\n",
        "  predictions = knn.predict(X_test)\n",
        "\n",
        "  test_accuracy[j] = accuracy_score(y_test, predictions)\n",
        "  print('k=',i, 'Accuracy=', test_accuracy[j])\n",
        "  j=j+1"
      ],
      "metadata": {
        "colab": {
          "base_uri": "https://localhost:8080/"
        },
        "id": "RbSSgBm4ylXw",
        "outputId": "2a9ae21d-7fc2-4e29-b2dd-102fdbea2214"
      },
      "execution_count": 69,
      "outputs": [
        {
          "output_type": "stream",
          "name": "stdout",
          "text": [
            "k= 1 Accuracy= 0.7716763005780347\n",
            "k= 3 Accuracy= 0.8526011560693642\n",
            "k= 5 Accuracy= 0.8930635838150289\n",
            "k= 7 Accuracy= 0.9421965317919075\n",
            "k= 9 Accuracy= 0.9248554913294798\n",
            "k= 11 Accuracy= 0.8988439306358381\n"
          ]
        }
      ]
    },
    {
      "cell_type": "code",
      "source": [
        "#bar plot between K values and Accuracy when weight=uniform\n",
        "plt.bar(k, test_accuracy)\n",
        "print('weights=uniform')\n",
        "plt.xlabel(\" K\")\n",
        "plt.ylabel(\"Accuracy\")\n",
        "plt.title(\"Bar Chart between different values of K and accuracy in KNN\")\n",
        "plt.legend()\n",
        "plt.show()"
      ],
      "metadata": {
        "colab": {
          "base_uri": "https://localhost:8080/",
          "height": 330
        },
        "id": "mwPq4g7x2I7s",
        "outputId": "9374f29e-33e7-4e76-c308-37e31c949f60"
      },
      "execution_count": 73,
      "outputs": [
        {
          "output_type": "stream",
          "name": "stderr",
          "text": [
            "No handles with labels found to put in legend.\n"
          ]
        },
        {
          "output_type": "stream",
          "name": "stdout",
          "text": [
            "weights=uniform\n"
          ]
        },
        {
          "output_type": "display_data",
          "data": {
            "image/png": "[encoded data removed]",
            "text/plain": [
              "<Figure size 432x288 with 1 Axes>"
            ]
          },
          "metadata": {
            "needs_background": "light"
          }
        }
      ]
    },
    {
      "cell_type": "code",
      "source": [
        "# create model when weight=diatance value\n",
        "k=[1,3,5,7,9,11]\n",
        "j=0\n",
        "test_accuracy = np.empty(len(k))\n",
        "#checking accuracy for different values of K\n",
        "for i in k:\n",
        "  knn = KNeighborsClassifier(n_neighbors=i, weights='distance', metric='minkowski')\n",
        "\n",
        "  knn.fit(X_train, y_train)\n",
        "\n",
        "  predictions = knn.predict(X_test)\n",
        "\n",
        "  test_accuracy[j] = accuracy_score(y_test, predictions)\n",
        "  print('k=',i, 'Accuracy=', test_accuracy[j])\n",
        "  j=j+1"
      ],
      "metadata": {
        "colab": {
          "base_uri": "https://localhost:8080/"
        },
        "id": "3Dn3_8xc4u_4",
        "outputId": "486c786b-032f-43d1-de3f-beda300fa3ce"
      },
      "execution_count": 70,
      "outputs": [
        {
          "output_type": "stream",
          "name": "stdout",
          "text": [
            "k= 1 Accuracy= 0.7716763005780347\n",
            "k= 3 Accuracy= 0.8526011560693642\n",
            "k= 5 Accuracy= 0.8930635838150289\n",
            "k= 7 Accuracy= 0.9421965317919075\n",
            "k= 9 Accuracy= 0.9277456647398844\n",
            "k= 11 Accuracy= 0.9161849710982659\n"
          ]
        }
      ]
    },
    {
      "cell_type": "code",
      "source": [
        "#bar plot between K values and Accuracy when weight=distance\n",
        "plt.bar(k, test_accuracy)\n",
        "print('weights=distance')\n",
        "plt.xlabel(\" K\")\n",
        "plt.ylabel(\"Accuracy\")\n",
        "plt.title(\"Bar Chart between different values of K and accuracy in KNN\")\n",
        "plt.legend()\n",
        "plt.show()"
      ],
      "metadata": {
        "colab": {
          "base_uri": "https://localhost:8080/",
          "height": 330
        },
        "id": "7rnQXCgi5g6P",
        "outputId": "b4407741-0ad9-4b1e-bdfe-62acc494ab36"
      },
      "execution_count": 64,
      "outputs": [
        {
          "output_type": "stream",
          "name": "stderr",
          "text": [
            "No handles with labels found to put in legend.\n"
          ]
        },
        {
          "output_type": "stream",
          "name": "stdout",
          "text": [
            "weights=distance\n"
          ]
        },
        {
          "output_type": "display_data",
          "data": {
            "image/png": "[encoded data removed]",
            "text/plain": [
              "<Figure size 432x288 with 1 Axes>"
            ]
          },
          "metadata": {
            "needs_background": "light"
          }
        }
      ]
    }
  ]
}